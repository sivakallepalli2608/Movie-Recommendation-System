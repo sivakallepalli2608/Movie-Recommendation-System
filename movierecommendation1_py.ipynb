{
  "nbformat": 4,
  "nbformat_minor": 0,
  "metadata": {
    "colab": {
      "provenance": []
    },
    "kernelspec": {
      "name": "python3",
      "display_name": "Python 3"
    },
    "language_info": {
      "name": "python"
    }
  },
  "cells": [
    {
      "cell_type": "code",
      "execution_count": null,
      "metadata": {
        "colab": {
          "base_uri": "https://localhost:8080/"
        },
        "id": "Z0hwrx2L7LEn",
        "outputId": "c2f9dee8-e0bb-47d7-8d45-b914b116ecf6"
      },
      "outputs": [
        {
          "output_type": "stream",
          "name": "stdout",
          "text": [
            "please Enter the movie name:iron man\n",
            "['Iron Man', 'Iron Man 3', 'Iron Man 2']\n",
            "movies suggested for you\n",
            "1 . Iron Man\n",
            "2 . Iron Man 2\n",
            "3 . Iron Man 3\n",
            "4 . Avengers: Age of Ultron\n",
            "5 . The Avengers\n",
            "6 . Captain America: Civil War\n",
            "7 . Captain America: The Winter Soldier\n",
            "8 . Ant-Man\n",
            "9 . X-Men\n",
            "10 . Made\n",
            "11 . X-Men: Apocalypse\n",
            "12 . X2\n",
            "13 . The Incredible Hulk\n",
            "14 . The Helix... Loaded\n",
            "15 . X-Men: First Class\n",
            "16 . X-Men: Days of Future Past\n",
            "17 . Captain America: The First Avenger\n",
            "18 . Kick-Ass 2\n",
            "19 . Guardians of the Galaxy\n",
            "20 . Deadpool\n",
            "21 . Thor: The Dark World\n",
            "22 . G-Force\n",
            "23 . X-Men: The Last Stand\n",
            "24 . Duets\n"
          ]
        }
      ],
      "source": [
        "import numpy as np\n",
        "import pandas as pd\n",
        "import difflib\n",
        "from sklearn.feature_extraction.text import TfidfVectorizer\n",
        "from sklearn.metrics.pairwise import cosine_similarity\n",
        "movies_data=pd.read_csv('/content/movies.csv')\n",
        "#selecting the relevant features\n",
        "selected_features=['genres','director','keywords','tagline','cast']\n",
        "#handling the null values,replacing the null values with empty string\n",
        "for feature in selected_features:\n",
        "  movies_data[feature]=movies_data[feature].fillna('')\n",
        "combined_features=movies_data['genres']+\" \"+movies_data['keywords']+\" \"+movies_data['tagline']+\" \"+movies_data['cast']+\" \"+movies_data['director']\n",
        "#converting the text_data into feature_vectors(text data is converted to numerical data)\n",
        "vectorizer=TfidfVectorizer()\n",
        "feature_vectors=vectorizer.fit_transform(combined_features)\n",
        "#getting the similarity scores using cosine similarity\n",
        "#here each value or feauture vector is compared with other and generate similarity score\n",
        "similarity=cosine_similarity(feature_vectors)\n",
        "movie_name=input('please Enter the movie name:')\n",
        "list_of_all_titles=movies_data['title'].tolist()\n",
        "find_close_match=difflib.get_close_matches(movie_name,list_of_all_titles)\n",
        "print(find_close_match)\n",
        "index_of_the_movie=movies_data[movies_data.title==find_close_match[0]]['index'].values[0]\n",
        "similarity_score=list(enumerate(similarity[index_of_the_movie]))\n",
        "sorted_similar_movies=sorted(similarity_score,key=lambda x:x[1],reverse=True)\n",
        "print('movies suggested for you')\n",
        "i=1\n",
        "for movie in sorted_similar_movies:\n",
        "  index=movie[0]\n",
        "  title_from_index=movies_data[movies_data.index==index]['title'].values[0]\n",
        "  if i<25:\n",
        "    print(i,'.',title_from_index)\n",
        "    i+=1\n",
        "  else:\n",
        "    break\n"
      ]
    }
  ]
}